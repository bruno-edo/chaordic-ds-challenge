{
 "cells": [
  {
   "cell_type": "code",
   "execution_count": 1,
   "metadata": {
    "collapsed": true
   },
   "outputs": [],
   "source": [
    "import pandas as pd\n",
    "import json\n",
    "import sys"
   ]
  },
  {
   "cell_type": "code",
   "execution_count": 2,
   "metadata": {
    "collapsed": false
   },
   "outputs": [
    {
     "data": {
      "text/html": [
       "<div>\n",
       "<table border=\"1\" class=\"dataframe\">\n",
       "  <thead>\n",
       "    <tr style=\"text-align: right;\">\n",
       "      <th></th>\n",
       "      <th>date</th>\n",
       "      <th>event_type</th>\n",
       "      <th>page_type</th>\n",
       "      <th>productId</th>\n",
       "      <th>products</th>\n",
       "      <th>source</th>\n",
       "      <th>timestamp</th>\n",
       "      <th>uid</th>\n",
       "    </tr>\n",
       "  </thead>\n",
       "  <tbody>\n",
       "    <tr>\n",
       "      <th>0</th>\n",
       "      <td>NaN</td>\n",
       "      <td>pageview</td>\n",
       "      <td>subcategory</td>\n",
       "      <td>NaN</td>\n",
       "      <td>NaN</td>\n",
       "      <td>NaN</td>\n",
       "      <td>2016-10-13</td>\n",
       "      <td>1f0cedefabab971e2a4324dcb463b1a270e5b797</td>\n",
       "    </tr>\n",
       "    <tr>\n",
       "      <th>1</th>\n",
       "      <td>NaN</td>\n",
       "      <td>pageview</td>\n",
       "      <td>subcategory</td>\n",
       "      <td>NaN</td>\n",
       "      <td>NaN</td>\n",
       "      <td>desktop</td>\n",
       "      <td>2016-12-10</td>\n",
       "      <td>510cd8ba654a79a7b0744af479013c2dd236fd30</td>\n",
       "    </tr>\n",
       "    <tr>\n",
       "      <th>2</th>\n",
       "      <td>NaN</td>\n",
       "      <td>pageview</td>\n",
       "      <td>checkout</td>\n",
       "      <td>NaN</td>\n",
       "      <td>NaN</td>\n",
       "      <td>desktop</td>\n",
       "      <td>2016-11-09</td>\n",
       "      <td>e84c1520e5ede66d603aa9622a217d091dd384b2</td>\n",
       "    </tr>\n",
       "    <tr>\n",
       "      <th>3</th>\n",
       "      <td>NaN</td>\n",
       "      <td>pageview</td>\n",
       "      <td>subcategory</td>\n",
       "      <td>NaN</td>\n",
       "      <td>NaN</td>\n",
       "      <td>NaN</td>\n",
       "      <td>2016-08-18</td>\n",
       "      <td>7350534b8c1e4644391d90b0e2bf77132ccc1849</td>\n",
       "    </tr>\n",
       "    <tr>\n",
       "      <th>4</th>\n",
       "      <td>NaN</td>\n",
       "      <td>pageview</td>\n",
       "      <td>subcategory</td>\n",
       "      <td>NaN</td>\n",
       "      <td>NaN</td>\n",
       "      <td>desktop</td>\n",
       "      <td>2017-02-22</td>\n",
       "      <td>000d64fe9b18dae5c446f79ad572d6119ea3ebe5</td>\n",
       "    </tr>\n",
       "    <tr>\n",
       "      <th>5</th>\n",
       "      <td>NaN</td>\n",
       "      <td>pageview</td>\n",
       "      <td>product</td>\n",
       "      <td>46f25a2218cb0f8b9b6b901de79f8d715b96c6dd</td>\n",
       "      <td>NaN</td>\n",
       "      <td>desktop</td>\n",
       "      <td>2017-02-28</td>\n",
       "      <td>23c565457029c1c8d94cf849fe2fc1accd9a0e3f</td>\n",
       "    </tr>\n",
       "    <tr>\n",
       "      <th>6</th>\n",
       "      <td>NaN</td>\n",
       "      <td>pageview</td>\n",
       "      <td>product</td>\n",
       "      <td>713f4051a644222aae840602aea15fadf006295b</td>\n",
       "      <td>NaN</td>\n",
       "      <td>desktop</td>\n",
       "      <td>2017-01-20</td>\n",
       "      <td>84acefce642c8d4fe5c8999e9c1d1874f8767680</td>\n",
       "    </tr>\n",
       "    <tr>\n",
       "      <th>7</th>\n",
       "      <td>NaN</td>\n",
       "      <td>pageview</td>\n",
       "      <td>category</td>\n",
       "      <td>NaN</td>\n",
       "      <td>NaN</td>\n",
       "      <td>desktop</td>\n",
       "      <td>2017-01-20</td>\n",
       "      <td>5a290b76b1fe527d76befa70d8f9bb561cfdf928</td>\n",
       "    </tr>\n",
       "    <tr>\n",
       "      <th>8</th>\n",
       "      <td>NaN</td>\n",
       "      <td>pageview</td>\n",
       "      <td>subcategory</td>\n",
       "      <td>NaN</td>\n",
       "      <td>NaN</td>\n",
       "      <td>NaN</td>\n",
       "      <td>2016-09-30</td>\n",
       "      <td>bb5162c508136f18f09ed54b49415fba82b19039</td>\n",
       "    </tr>\n",
       "    <tr>\n",
       "      <th>9</th>\n",
       "      <td>NaN</td>\n",
       "      <td>pageview</td>\n",
       "      <td>subcategory</td>\n",
       "      <td>NaN</td>\n",
       "      <td>NaN</td>\n",
       "      <td>NaN</td>\n",
       "      <td>2016-08-31</td>\n",
       "      <td>ddc4ba698caaac83121cb60a12ea50cfeb36a431</td>\n",
       "    </tr>\n",
       "  </tbody>\n",
       "</table>\n",
       "</div>"
      ],
      "text/plain": [
       "  date event_type    page_type                                 productId  \\\n",
       "0  NaN   pageview  subcategory                                       NaN   \n",
       "1  NaN   pageview  subcategory                                       NaN   \n",
       "2  NaN   pageview     checkout                                       NaN   \n",
       "3  NaN   pageview  subcategory                                       NaN   \n",
       "4  NaN   pageview  subcategory                                       NaN   \n",
       "5  NaN   pageview      product  46f25a2218cb0f8b9b6b901de79f8d715b96c6dd   \n",
       "6  NaN   pageview      product  713f4051a644222aae840602aea15fadf006295b   \n",
       "7  NaN   pageview     category                                       NaN   \n",
       "8  NaN   pageview  subcategory                                       NaN   \n",
       "9  NaN   pageview  subcategory                                       NaN   \n",
       "\n",
       "  products   source   timestamp                                       uid  \n",
       "0      NaN      NaN  2016-10-13  1f0cedefabab971e2a4324dcb463b1a270e5b797  \n",
       "1      NaN  desktop  2016-12-10  510cd8ba654a79a7b0744af479013c2dd236fd30  \n",
       "2      NaN  desktop  2016-11-09  e84c1520e5ede66d603aa9622a217d091dd384b2  \n",
       "3      NaN      NaN  2016-08-18  7350534b8c1e4644391d90b0e2bf77132ccc1849  \n",
       "4      NaN  desktop  2017-02-22  000d64fe9b18dae5c446f79ad572d6119ea3ebe5  \n",
       "5      NaN  desktop  2017-02-28  23c565457029c1c8d94cf849fe2fc1accd9a0e3f  \n",
       "6      NaN  desktop  2017-01-20  84acefce642c8d4fe5c8999e9c1d1874f8767680  \n",
       "7      NaN  desktop  2017-01-20  5a290b76b1fe527d76befa70d8f9bb561cfdf928  \n",
       "8      NaN      NaN  2016-09-30  bb5162c508136f18f09ed54b49415fba82b19039  \n",
       "9      NaN      NaN  2016-08-31  ddc4ba698caaac83121cb60a12ea50cfeb36a431  "
      ]
     },
     "execution_count": 2,
     "metadata": {},
     "output_type": "execute_result"
    }
   ],
   "source": [
    "with open('inputs/target.json', 'r') as file:\n",
    "    raw_data = pd.DataFrame(json.loads(line) for line in file)\n",
    "\n",
    "raw_data.head(10)"
   ]
  },
  {
   "cell_type": "code",
   "execution_count": 4,
   "metadata": {
    "collapsed": false
   },
   "outputs": [
    {
     "name": "stdout",
     "output_type": "stream",
     "text": [
      "3209\n"
     ]
    }
   ],
   "source": [
    "print(len(raw_data.uid.unique()))"
   ]
  },
  {
   "cell_type": "code",
   "execution_count": 5,
   "metadata": {
    "collapsed": false
   },
   "outputs": [
    {
     "name": "stdout",
     "output_type": "stream",
     "text": [
      "['product' nan]\n",
      "107455\n"
     ]
    }
   ],
   "source": [
    "#Drops rows assumed to be noise views\n",
    "raw_data.drop(raw_data.loc[raw_data['page_type'] == 'cart'].index, inplace=True, axis=0)\n",
    "raw_data.drop(raw_data.loc[raw_data['page_type'] == 'home'].index, inplace=True, axis=0) #This column might be useful to determine how much the shopper browses around\n",
    "raw_data.drop(raw_data.loc[raw_data['page_type'] == 'brand_landing'].index, inplace=True, axis=0) #This column might be useful to determine how much the shopper browses around\n",
    "raw_data.drop(raw_data.loc[raw_data['page_type'] == 'search'].index, inplace=True, axis=0) #This column might be useful to determine how much the shopper browses around\n",
    "raw_data.drop(raw_data.loc[raw_data['page_type'] == 'confirmation'].index, inplace=True, axis=0)\n",
    "raw_data.drop(raw_data.loc[raw_data['page_type'] == 'other'].index, inplace=True, axis=0)\n",
    "raw_data.drop(raw_data.loc[raw_data['page_type'] == 'checkout'].index, inplace=True, axis=0)\n",
    "raw_data.drop(raw_data.loc[raw_data['page_type'] == 'category'].index, inplace=True, axis=0) #This column might be useful, have to test score and revisit later\n",
    "raw_data.drop(raw_data.loc[raw_data['page_type'] == 'subcategory'].index, inplace=True, axis=0) #This column might be useful, have to test score and revisit later\n",
    "print(raw_data.page_type.unique())\n",
    "print(len(raw_data.index))"
   ]
  },
  {
   "cell_type": "code",
   "execution_count": 7,
   "metadata": {
    "collapsed": false
   },
   "outputs": [
    {
     "name": "stdout",
     "output_type": "stream",
     "text": [
      "['pageview' 'purchase']\n",
      "3209\n"
     ]
    }
   ],
   "source": [
    "print(raw_data.event_type.unique())\n",
    "print(len(raw_data.uid.unique()))"
   ]
  },
  {
   "cell_type": "code",
   "execution_count": null,
   "metadata": {
    "collapsed": true
   },
   "outputs": [],
   "source": []
  }
 ],
 "metadata": {
  "kernelspec": {
   "display_name": "Python [Root]",
   "language": "python",
   "name": "Python [Root]"
  },
  "language_info": {
   "codemirror_mode": {
    "name": "ipython",
    "version": 3
   },
   "file_extension": ".py",
   "mimetype": "text/x-python",
   "name": "python",
   "nbconvert_exporter": "python",
   "pygments_lexer": "ipython3",
   "version": "3.5.2"
  }
 },
 "nbformat": 4,
 "nbformat_minor": 0
}
